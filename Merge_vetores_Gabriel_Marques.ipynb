{
  "nbformat": 4,
  "nbformat_minor": 0,
  "metadata": {
    "colab": {
      "provenance": [],
      "authorship_tag": "ABX9TyMsUsOShKkJ/H1MSunR3TWN",
      "include_colab_link": true
    },
    "kernelspec": {
      "name": "python3",
      "display_name": "Python 3"
    },
    "language_info": {
      "name": "python"
    }
  },
  "cells": [
    {
      "cell_type": "markdown",
      "metadata": {
        "id": "view-in-github",
        "colab_type": "text"
      },
      "source": [
        "<a href=\"https://colab.research.google.com/github/0GabrielMarques0/Merge-vetores/blob/main/Merge_vetores_Gabriel_Marques.ipynb\" target=\"_parent\"><img src=\"https://colab.research.google.com/assets/colab-badge.svg\" alt=\"Open In Colab\"/></a>"
      ]
    },
    {
      "cell_type": "markdown",
      "source": [
        "Dado dois vetores ordenados de forma crescente, implemente uma função chamada merge_vetores que receba esses dois vetores como parâmetros e retorne um novo vetor que seja a fusão ordenada dos dois vetores de entrada."
      ],
      "metadata": {
        "id": "3UuNgpSK3OHZ"
      }
    },
    {
      "cell_type": "code",
      "execution_count": 3,
      "metadata": {
        "colab": {
          "base_uri": "https://localhost:8080/"
        },
        "id": "lE6a2KCt3Bml",
        "outputId": "4427fd05-51c5-4b32-cc8c-e82a33238b30"
      },
      "outputs": [
        {
          "output_type": "stream",
          "name": "stdout",
          "text": [
            "O vetor resultante será [1, 2, 3, 4, 5, 6, 7, 8, 9, 10]\n"
          ]
        }
      ],
      "source": [
        "vetor1 = [1, 3, 5, 7, 9];\n",
        "vetor2 = [2, 4, 6, 8, 10];\n",
        "fusao = []\n",
        "\n",
        "def merge_vetores(vetor1,vetor2,fusao):\n",
        "  while(len(vetor1)!= 0 and len(vetor2)!= 0):\n",
        "    fusao.append(min(vetor1));\n",
        "    fusao.append(min(vetor2));\n",
        "    vetor1.remove(min(vetor1));\n",
        "    vetor2.remove(min(vetor2));\n",
        "  return fusao\n",
        "\n",
        "print(f'O vetor resultante será {merge_vetores(vetor1,vetor2,fusao)}')"
      ]
    }
  ]
}